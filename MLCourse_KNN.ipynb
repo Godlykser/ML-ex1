{
  "metadata": {
    "kernelspec": {
      "display_name": "Python 3",
      "language": "python",
      "name": "python3"
    },
    "language_info": {
      "name": "python",
      "version": "3.6.5",
      "mimetype": "text/x-python",
      "codemirror_mode": {
        "name": "ipython",
        "version": 3
      },
      "pygments_lexer": "ipython3",
      "nbconvert_exporter": "python",
      "file_extension": ".py"
    },
    "colab": {
      "provenance": [],
      "collapsed_sections": [],
      "include_colab_link": true
    },
    "widgets": {
      "application/vnd.jupyter.widget-state+json": {
        "15801392566347938a090c4704f25c59": {
          "model_module": "@jupyter-widgets/controls",
          "model_name": "HBoxModel",
          "model_module_version": "1.5.0",
          "state": {
            "_dom_classes": [],
            "_model_module": "@jupyter-widgets/controls",
            "_model_module_version": "1.5.0",
            "_model_name": "HBoxModel",
            "_view_count": null,
            "_view_module": "@jupyter-widgets/controls",
            "_view_module_version": "1.5.0",
            "_view_name": "HBoxView",
            "box_style": "",
            "children": [
              "IPY_MODEL_658f4a6aa27644bea688b5bd3e7d080a",
              "IPY_MODEL_9b75eeab4a284762965fc74c3a61f6a0",
              "IPY_MODEL_cdbc35baaa6b4a3c829755f30c70e16f"
            ],
            "layout": "IPY_MODEL_b27398ca47fa45959204576d91629138"
          }
        },
        "658f4a6aa27644bea688b5bd3e7d080a": {
          "model_module": "@jupyter-widgets/controls",
          "model_name": "HTMLModel",
          "model_module_version": "1.5.0",
          "state": {
            "_dom_classes": [],
            "_model_module": "@jupyter-widgets/controls",
            "_model_module_version": "1.5.0",
            "_model_name": "HTMLModel",
            "_view_count": null,
            "_view_module": "@jupyter-widgets/controls",
            "_view_module_version": "1.5.0",
            "_view_name": "HTMLView",
            "description": "",
            "description_tooltip": null,
            "layout": "IPY_MODEL_a8dc1b38f9d345faa5eaddcb25b923b5",
            "placeholder": "​",
            "style": "IPY_MODEL_300af4fdcbe44d45bd830eb1797e72e3",
            "value": "100%"
          }
        },
        "9b75eeab4a284762965fc74c3a61f6a0": {
          "model_module": "@jupyter-widgets/controls",
          "model_name": "FloatProgressModel",
          "model_module_version": "1.5.0",
          "state": {
            "_dom_classes": [],
            "_model_module": "@jupyter-widgets/controls",
            "_model_module_version": "1.5.0",
            "_model_name": "FloatProgressModel",
            "_view_count": null,
            "_view_module": "@jupyter-widgets/controls",
            "_view_module_version": "1.5.0",
            "_view_name": "ProgressView",
            "bar_style": "success",
            "description": "",
            "description_tooltip": null,
            "layout": "IPY_MODEL_cf5615f7c1444f318f505dc6f8f1371a",
            "max": 170498071,
            "min": 0,
            "orientation": "horizontal",
            "style": "IPY_MODEL_20c4952e9abf4b7faa96317cc8a6adb8",
            "value": 170498071
          }
        },
        "cdbc35baaa6b4a3c829755f30c70e16f": {
          "model_module": "@jupyter-widgets/controls",
          "model_name": "HTMLModel",
          "model_module_version": "1.5.0",
          "state": {
            "_dom_classes": [],
            "_model_module": "@jupyter-widgets/controls",
            "_model_module_version": "1.5.0",
            "_model_name": "HTMLModel",
            "_view_count": null,
            "_view_module": "@jupyter-widgets/controls",
            "_view_module_version": "1.5.0",
            "_view_name": "HTMLView",
            "description": "",
            "description_tooltip": null,
            "layout": "IPY_MODEL_8331a822d07041548d6bf30dba7efb8b",
            "placeholder": "​",
            "style": "IPY_MODEL_c6dcf12346eb436093b1773da640fe95",
            "value": " 170498071/170498071 [00:02&lt;00:00, 86923952.40it/s]"
          }
        },
        "b27398ca47fa45959204576d91629138": {
          "model_module": "@jupyter-widgets/base",
          "model_name": "LayoutModel",
          "model_module_version": "1.2.0",
          "state": {
            "_model_module": "@jupyter-widgets/base",
            "_model_module_version": "1.2.0",
            "_model_name": "LayoutModel",
            "_view_count": null,
            "_view_module": "@jupyter-widgets/base",
            "_view_module_version": "1.2.0",
            "_view_name": "LayoutView",
            "align_content": null,
            "align_items": null,
            "align_self": null,
            "border": null,
            "bottom": null,
            "display": null,
            "flex": null,
            "flex_flow": null,
            "grid_area": null,
            "grid_auto_columns": null,
            "grid_auto_flow": null,
            "grid_auto_rows": null,
            "grid_column": null,
            "grid_gap": null,
            "grid_row": null,
            "grid_template_areas": null,
            "grid_template_columns": null,
            "grid_template_rows": null,
            "height": null,
            "justify_content": null,
            "justify_items": null,
            "left": null,
            "margin": null,
            "max_height": null,
            "max_width": null,
            "min_height": null,
            "min_width": null,
            "object_fit": null,
            "object_position": null,
            "order": null,
            "overflow": null,
            "overflow_x": null,
            "overflow_y": null,
            "padding": null,
            "right": null,
            "top": null,
            "visibility": null,
            "width": null
          }
        },
        "a8dc1b38f9d345faa5eaddcb25b923b5": {
          "model_module": "@jupyter-widgets/base",
          "model_name": "LayoutModel",
          "model_module_version": "1.2.0",
          "state": {
            "_model_module": "@jupyter-widgets/base",
            "_model_module_version": "1.2.0",
            "_model_name": "LayoutModel",
            "_view_count": null,
            "_view_module": "@jupyter-widgets/base",
            "_view_module_version": "1.2.0",
            "_view_name": "LayoutView",
            "align_content": null,
            "align_items": null,
            "align_self": null,
            "border": null,
            "bottom": null,
            "display": null,
            "flex": null,
            "flex_flow": null,
            "grid_area": null,
            "grid_auto_columns": null,
            "grid_auto_flow": null,
            "grid_auto_rows": null,
            "grid_column": null,
            "grid_gap": null,
            "grid_row": null,
            "grid_template_areas": null,
            "grid_template_columns": null,
            "grid_template_rows": null,
            "height": null,
            "justify_content": null,
            "justify_items": null,
            "left": null,
            "margin": null,
            "max_height": null,
            "max_width": null,
            "min_height": null,
            "min_width": null,
            "object_fit": null,
            "object_position": null,
            "order": null,
            "overflow": null,
            "overflow_x": null,
            "overflow_y": null,
            "padding": null,
            "right": null,
            "top": null,
            "visibility": null,
            "width": null
          }
        },
        "300af4fdcbe44d45bd830eb1797e72e3": {
          "model_module": "@jupyter-widgets/controls",
          "model_name": "DescriptionStyleModel",
          "model_module_version": "1.5.0",
          "state": {
            "_model_module": "@jupyter-widgets/controls",
            "_model_module_version": "1.5.0",
            "_model_name": "DescriptionStyleModel",
            "_view_count": null,
            "_view_module": "@jupyter-widgets/base",
            "_view_module_version": "1.2.0",
            "_view_name": "StyleView",
            "description_width": ""
          }
        },
        "cf5615f7c1444f318f505dc6f8f1371a": {
          "model_module": "@jupyter-widgets/base",
          "model_name": "LayoutModel",
          "model_module_version": "1.2.0",
          "state": {
            "_model_module": "@jupyter-widgets/base",
            "_model_module_version": "1.2.0",
            "_model_name": "LayoutModel",
            "_view_count": null,
            "_view_module": "@jupyter-widgets/base",
            "_view_module_version": "1.2.0",
            "_view_name": "LayoutView",
            "align_content": null,
            "align_items": null,
            "align_self": null,
            "border": null,
            "bottom": null,
            "display": null,
            "flex": null,
            "flex_flow": null,
            "grid_area": null,
            "grid_auto_columns": null,
            "grid_auto_flow": null,
            "grid_auto_rows": null,
            "grid_column": null,
            "grid_gap": null,
            "grid_row": null,
            "grid_template_areas": null,
            "grid_template_columns": null,
            "grid_template_rows": null,
            "height": null,
            "justify_content": null,
            "justify_items": null,
            "left": null,
            "margin": null,
            "max_height": null,
            "max_width": null,
            "min_height": null,
            "min_width": null,
            "object_fit": null,
            "object_position": null,
            "order": null,
            "overflow": null,
            "overflow_x": null,
            "overflow_y": null,
            "padding": null,
            "right": null,
            "top": null,
            "visibility": null,
            "width": null
          }
        },
        "20c4952e9abf4b7faa96317cc8a6adb8": {
          "model_module": "@jupyter-widgets/controls",
          "model_name": "ProgressStyleModel",
          "model_module_version": "1.5.0",
          "state": {
            "_model_module": "@jupyter-widgets/controls",
            "_model_module_version": "1.5.0",
            "_model_name": "ProgressStyleModel",
            "_view_count": null,
            "_view_module": "@jupyter-widgets/base",
            "_view_module_version": "1.2.0",
            "_view_name": "StyleView",
            "bar_color": null,
            "description_width": ""
          }
        },
        "8331a822d07041548d6bf30dba7efb8b": {
          "model_module": "@jupyter-widgets/base",
          "model_name": "LayoutModel",
          "model_module_version": "1.2.0",
          "state": {
            "_model_module": "@jupyter-widgets/base",
            "_model_module_version": "1.2.0",
            "_model_name": "LayoutModel",
            "_view_count": null,
            "_view_module": "@jupyter-widgets/base",
            "_view_module_version": "1.2.0",
            "_view_name": "LayoutView",
            "align_content": null,
            "align_items": null,
            "align_self": null,
            "border": null,
            "bottom": null,
            "display": null,
            "flex": null,
            "flex_flow": null,
            "grid_area": null,
            "grid_auto_columns": null,
            "grid_auto_flow": null,
            "grid_auto_rows": null,
            "grid_column": null,
            "grid_gap": null,
            "grid_row": null,
            "grid_template_areas": null,
            "grid_template_columns": null,
            "grid_template_rows": null,
            "height": null,
            "justify_content": null,
            "justify_items": null,
            "left": null,
            "margin": null,
            "max_height": null,
            "max_width": null,
            "min_height": null,
            "min_width": null,
            "object_fit": null,
            "object_position": null,
            "order": null,
            "overflow": null,
            "overflow_x": null,
            "overflow_y": null,
            "padding": null,
            "right": null,
            "top": null,
            "visibility": null,
            "width": null
          }
        },
        "c6dcf12346eb436093b1773da640fe95": {
          "model_module": "@jupyter-widgets/controls",
          "model_name": "DescriptionStyleModel",
          "model_module_version": "1.5.0",
          "state": {
            "_model_module": "@jupyter-widgets/controls",
            "_model_module_version": "1.5.0",
            "_model_name": "DescriptionStyleModel",
            "_view_count": null,
            "_view_module": "@jupyter-widgets/base",
            "_view_module_version": "1.2.0",
            "_view_name": "StyleView",
            "description_width": ""
          }
        }
      }
    }
  },
  "nbformat_minor": 0,
  "nbformat": 4,
  "cells": [
    {
      "cell_type": "markdown",
      "metadata": {
        "id": "view-in-github",
        "colab_type": "text"
      },
      "source": [
        "<a href=\"https://colab.research.google.com/github/Godlykser/ML-ex1/blob/main/MLCourse_KNN.ipynb\" target=\"_parent\"><img src=\"https://colab.research.google.com/assets/colab-badge.svg\" alt=\"Open In Colab\"/></a>"
      ]
    },
    {
      "cell_type": "markdown",
      "source": [
        "<h1><center><b>Machine Learning</></center></h1>\n",
        "<h4><center>89-511</center></h4>\n",
        "<h3><center>Exercise 1 - Practical Part</center></h3>"
      ],
      "metadata": {
        "id": "FnIE9WTOfS1l"
      }
    },
    {
      "cell_type": "markdown",
      "source": [
        "Your Name:  \n",
        "<font color='red'>\n",
        "Yotam Ben Dov, 316387950\n",
        "</font>\n"
      ],
      "metadata": {
        "id": "E89lXXfbfXHm"
      }
    },
    {
      "cell_type": "markdown",
      "source": [
        "____________"
      ],
      "metadata": {
        "id": "3lYBy6xqfjeZ"
      }
    },
    {
      "cell_type": "markdown",
      "source": [
        "In this exercise we will learn to:\n",
        "1. Load and prepare datasets.\n",
        "2. Implement KNN algorithm."
      ],
      "metadata": {
        "id": "MQHH33U_fcfO"
      }
    },
    {
      "cell_type": "markdown",
      "source": [
        "**Instructions:**\n",
        "- Create a copy of this notebook and implement your code in it.\n",
        "- Make sure all the cells run without errors.\n",
        "- When you finish the assignment, download the notebook and submit it and your pdf file to the **\"submit\"** system. \n",
        "To Download the notebook go to **\"File\"** -> **\"Download .ipynb\"**.  \n",
        "\n",
        "\n",
        "\n",
        "If you have questions, please ask at the forum on moodle.\n",
        "\n",
        "Personal requests please send to TA emails."
      ],
      "metadata": {
        "id": "NJMv-ROefl8X"
      }
    },
    {
      "cell_type": "markdown",
      "source": [
        "### **1. Introduction to Colab and Numpy**"
      ],
      "metadata": {
        "id": "4GQhuPnKGMDv"
      }
    },
    {
      "cell_type": "markdown",
      "source": [
        "We use the Python programming language for all assignments in this course with the help of popular packages (like numpy, matplotlib, sklearn, scipy and pytorch)."
      ],
      "metadata": {
        "id": "aEUfaBxEGPYv"
      }
    },
    {
      "cell_type": "markdown",
      "source": [
        "Go over this **[numpy tutorial](https://numpy.org/doc/stable/user/quickstart.html)** or this **[tutorial](https://cs231n.github.io/python-numpy-tutorial/)** before starting this assignment and **[this notebook](https://colab.research.google.com/github/cs231n/cs231n.github.io/blob/master/python-colab.ipynb)** to understand how to work with basic packages and with Google Colab. It is important to go over them before starting this assignment."
      ],
      "metadata": {
        "id": "w3J-LD1JGRnz"
      }
    },
    {
      "cell_type": "code",
      "source": [
        "import numpy as np # linear algebra\n",
        "import matplotlib.pyplot as plt\n",
        "%matplotlib inline"
      ],
      "metadata": {
        "_uuid": "8f2839f25d086af736a60e9eeb907d3b93b6e0e5",
        "_cell_guid": "b1076dfc-b9ad-4769-8c92-a6c4dae69d19",
        "collapsed": true,
        "jupyter": {
          "outputs_hidden": true
        },
        "trusted": true,
        "id": "UrvjGAig6ZVz"
      },
      "execution_count": 3,
      "outputs": []
    },
    {
      "cell_type": "markdown",
      "source": [
        "Play with NumPy here:"
      ],
      "metadata": {
        "id": "txhZN0oi_sN7"
      }
    },
    {
      "cell_type": "code",
      "source": [
        "x = np.array([1,2,3])\n",
        "y = np.array([4,5,6])\n",
        "x, y"
      ],
      "metadata": {
        "colab": {
          "base_uri": "https://localhost:8080/"
        },
        "id": "PX_F6QmR_w6k",
        "outputId": "6dbc6af5-b133-411b-a7c8-44d63c7c156d"
      },
      "execution_count": null,
      "outputs": [
        {
          "output_type": "execute_result",
          "data": {
            "text/plain": [
              "(array([1, 2, 3]), array([4, 5, 6]))"
            ]
          },
          "metadata": {},
          "execution_count": 2
        }
      ]
    },
    {
      "cell_type": "markdown",
      "source": [
        "Pay attention: with NumPy, you can sum vectors in one line, you don't have to iterate over the elements."
      ],
      "metadata": {
        "id": "Bb9L0pZOAniX"
      }
    },
    {
      "cell_type": "code",
      "source": [
        "x + y\n",
        "# x - y\n",
        "# x * y\n",
        "# x**2\n",
        "# (x - y)**2"
      ],
      "metadata": {
        "colab": {
          "base_uri": "https://localhost:8080/"
        },
        "id": "kNef8D0O_3Yp",
        "outputId": "09fbe1a0-2ac3-4f7e-e51d-5d0df3d0b4c0"
      },
      "execution_count": null,
      "outputs": [
        {
          "output_type": "execute_result",
          "data": {
            "text/plain": [
              "array([5, 7, 9])"
            ]
          },
          "metadata": {},
          "execution_count": 3
        }
      ]
    },
    {
      "cell_type": "code",
      "source": [
        "np.sum(x)\n",
        "# np.mean(x)\n",
        "np.sqrt(x)"
      ],
      "metadata": {
        "colab": {
          "base_uri": "https://localhost:8080/"
        },
        "id": "HDHXT8erBjrB",
        "outputId": "d22974c9-b3ab-461d-a31e-c054f90f455c"
      },
      "execution_count": null,
      "outputs": [
        {
          "output_type": "execute_result",
          "data": {
            "text/plain": [
              "array([1.        , 1.41421356, 1.73205081])"
            ]
          },
          "metadata": {},
          "execution_count": 4
        }
      ]
    },
    {
      "cell_type": "markdown",
      "source": [
        "### **2. Data**"
      ],
      "metadata": {
        "id": "RFeWSRKXGYwt"
      }
    },
    {
      "cell_type": "markdown",
      "source": [
        "##Data\n",
        "We'll use CIFAR10 dataset.\n",
        "It is a very familiar dataset. Please read a little bit [here](https://www.cs.toronto.edu/~kriz/cifar.html).\n",
        "\n",
        "To import the dataset, we'll use the torch library. Don't dig about this library now, we will learn about it better in the next weeks."
      ],
      "metadata": {
        "id": "OxJ5oDEYBfzx"
      }
    },
    {
      "cell_type": "code",
      "source": [
        "import torch\n",
        "from torchvision import datasets,transforms\n",
        "import torchvision"
      ],
      "metadata": {
        "id": "duNdiOxThkGX"
      },
      "execution_count": 4,
      "outputs": []
    },
    {
      "cell_type": "code",
      "source": [
        "######################################################\n",
        "##   Don't change this cell. Use it as a black box  ##\n",
        "######################################################\n",
        "\n",
        "transform = transforms.Compose(\n",
        "    [transforms.ToTensor(),\n",
        "     ])\n",
        "\n",
        "trainset = torchvision.datasets.CIFAR10(root='./data', train=True,\n",
        "                                        download=True, transform=transform)\n",
        "trainloader = torch.utils.data.DataLoader(trainset, batch_size=100,\n",
        "                                          shuffle=True, num_workers=1)\n",
        "\n",
        "testset = torchvision.datasets.CIFAR10(root='./data', train=False,\n",
        "                                       download=True, transform=transform)\n",
        "testloader = torch.utils.data.DataLoader(testset, batch_size=100,\n",
        "                                         shuffle=False, num_workers=1)\n",
        "\n",
        "# CIFAR10 labels:\n",
        "classes = ('plane', 'car', 'bird', 'cat',\n",
        "           'deer', 'dog', 'frog', 'horse', 'ship', 'truck')"
      ],
      "metadata": {
        "id": "l3oDm59FhrLf",
        "outputId": "429e25ca-28d7-428e-be06-10cffbed8491",
        "colab": {
          "base_uri": "https://localhost:8080/",
          "height": 121,
          "referenced_widgets": [
            "15801392566347938a090c4704f25c59",
            "658f4a6aa27644bea688b5bd3e7d080a",
            "9b75eeab4a284762965fc74c3a61f6a0",
            "cdbc35baaa6b4a3c829755f30c70e16f",
            "b27398ca47fa45959204576d91629138",
            "a8dc1b38f9d345faa5eaddcb25b923b5",
            "300af4fdcbe44d45bd830eb1797e72e3",
            "cf5615f7c1444f318f505dc6f8f1371a",
            "20c4952e9abf4b7faa96317cc8a6adb8",
            "8331a822d07041548d6bf30dba7efb8b",
            "c6dcf12346eb436093b1773da640fe95"
          ]
        }
      },
      "execution_count": 5,
      "outputs": [
        {
          "output_type": "stream",
          "name": "stdout",
          "text": [
            "Downloading https://www.cs.toronto.edu/~kriz/cifar-10-python.tar.gz to ./data/cifar-10-python.tar.gz\n"
          ]
        },
        {
          "output_type": "display_data",
          "data": {
            "text/plain": [
              "  0%|          | 0/170498071 [00:00<?, ?it/s]"
            ],
            "application/vnd.jupyter.widget-view+json": {
              "version_major": 2,
              "version_minor": 0,
              "model_id": "15801392566347938a090c4704f25c59"
            }
          },
          "metadata": {}
        },
        {
          "output_type": "stream",
          "name": "stdout",
          "text": [
            "Extracting ./data/cifar-10-python.tar.gz to ./data\n",
            "Files already downloaded and verified\n"
          ]
        }
      ]
    },
    {
      "cell_type": "markdown",
      "source": [
        "Let's see a few images with their labels"
      ],
      "metadata": {
        "id": "mmmmXVkzCT_e"
      }
    },
    {
      "cell_type": "code",
      "source": [
        "# functions to show an image\n",
        "def imshow(img):\n",
        "    img = img / 2 + 0.5     # unnormalize\n",
        "    npimg = img.numpy()\n",
        "    plt.imshow(np.transpose(npimg, (1, 2, 0)))\n",
        "    plt.show()\n",
        "\n",
        "\n",
        "# get some random training images\n",
        "dataiter = iter(trainloader)\n",
        "images, labels = dataiter.next()\n",
        "\n",
        "testiter = iter(testloader)\n",
        "test_images, test_labels = testiter.next()\n",
        "\n",
        "# show images\n",
        "imshow(torchvision.utils.make_grid(images[:6]))\n",
        "# print labels\n",
        "print(' '.join('%5s' % classes[labels[j]] for j in range(6)))"
      ],
      "metadata": {
        "id": "pe-chMNui1-G",
        "outputId": "84499ca9-9ac7-47cc-a0b0-f43b8056c0c6",
        "colab": {
          "base_uri": "https://localhost:8080/",
          "height": 127
        }
      },
      "execution_count": 165,
      "outputs": [
        {
          "output_type": "display_data",
          "data": {
            "text/plain": [
              "<Figure size 432x288 with 1 Axes>"
            ],
            "image/png": "[encoded data removed]"
          },
          "metadata": {
            "needs_background": "light"
          }
        },
        {
          "output_type": "stream",
          "name": "stdout",
          "text": [
            " ship  frog  ship  deer horse truck\n"
          ]
        }
      ]
    },
    {
      "cell_type": "markdown",
      "source": [
        "Each image is represented as a RGB image.\n",
        "each pixel has a number between 0 and 1 on each dimension."
      ],
      "metadata": {
        "id": "E7WnAEEPjshc"
      }
    },
    {
      "cell_type": "code",
      "source": [
        "images[0], images[0].size()"
      ],
      "metadata": {
        "id": "FM1kkK1jjo7q",
        "outputId": "759d1515-d936-4fe0-f9f1-5841ddfa75ec",
        "colab": {
          "base_uri": "https://localhost:8080/"
        }
      },
      "execution_count": 75,
      "outputs": [
        {
          "output_type": "execute_result",
          "data": {
            "text/plain": [
              "(tensor([[[0.4549, 0.4667, 0.4471,  ..., 0.4980, 0.4353, 0.4510],\n",
              "          [0.4824, 0.4353, 0.4431,  ..., 0.5882, 0.5137, 0.5255],\n",
              "          [0.4039, 0.3686, 0.4706,  ..., 0.6078, 0.6157, 0.7255],\n",
              "          ...,\n",
              "          [0.6235, 0.6000, 0.6078,  ..., 0.5294, 0.5529, 0.5373],\n",
              "          [0.7137, 0.6745, 0.6980,  ..., 0.5686, 0.5412, 0.6118],\n",
              "          [0.6863, 0.6980, 0.7255,  ..., 0.5686, 0.5882, 0.6157]],\n",
              " \n",
              "         [[0.4863, 0.4863, 0.4275,  ..., 0.4588, 0.4667, 0.4667],\n",
              "          [0.5059, 0.4588, 0.4235,  ..., 0.5451, 0.4902, 0.4745],\n",
              "          [0.4039, 0.3765, 0.4745,  ..., 0.5961, 0.5961, 0.6784],\n",
              "          ...,\n",
              "          [0.5255, 0.5569, 0.5569,  ..., 0.4902, 0.5020, 0.4980],\n",
              "          [0.5804, 0.5765, 0.5804,  ..., 0.5059, 0.4784, 0.5216],\n",
              "          [0.5882, 0.5804, 0.6039,  ..., 0.4784, 0.5137, 0.5333]],\n",
              " \n",
              "         [[0.3059, 0.2902, 0.2745,  ..., 0.3255, 0.2784, 0.2667],\n",
              "          [0.3412, 0.2824, 0.2863,  ..., 0.4275, 0.3647, 0.3725],\n",
              "          [0.2392, 0.2235, 0.3333,  ..., 0.4588, 0.4549, 0.5804],\n",
              "          ...,\n",
              "          [0.4275, 0.4118, 0.4353,  ..., 0.3294, 0.3569, 0.3451],\n",
              "          [0.5098, 0.4667, 0.4745,  ..., 0.3686, 0.3529, 0.3961],\n",
              "          [0.4784, 0.4745, 0.4902,  ..., 0.3608, 0.3922, 0.4118]]]),\n",
              " torch.Size([3, 32, 32]))"
            ]
          },
          "metadata": {},
          "execution_count": 75
        }
      ]
    },
    {
      "cell_type": "markdown",
      "source": [
        "CIFAR is a big datadset, let's use only 100 images and convert them to numpy arrays"
      ],
      "metadata": {
        "_uuid": "29047fa0bda44ed0a1585111f3d6f8ff59d4874a",
        "id": "qDAXwa4F6ZWT"
      }
    },
    {
      "cell_type": "markdown",
      "source": [
        "#### Train Set"
      ],
      "metadata": {
        "id": "ET8mhNueCeFj"
      }
    },
    {
      "cell_type": "code",
      "source": [
        "x_train = np.array(images)\n",
        "y_train = np.array(labels)"
      ],
      "metadata": {
        "id": "tgnGJ0D2k0To"
      },
      "execution_count": 166,
      "outputs": []
    },
    {
      "cell_type": "code",
      "source": [
        "x_train.shape, y_train.shape"
      ],
      "metadata": {
        "_uuid": "6afd808eb483954449df900735458dc3fac2c872",
        "trusted": true,
        "id": "4XE9nvkA6ZWU",
        "outputId": "e113408c-71da-4d87-ccbb-891f83304ad8",
        "colab": {
          "base_uri": "https://localhost:8080/"
        }
      },
      "execution_count": 77,
      "outputs": [
        {
          "output_type": "execute_result",
          "data": {
            "text/plain": [
              "((100, 3, 32, 32), (100,))"
            ]
          },
          "metadata": {},
          "execution_count": 77
        }
      ]
    },
    {
      "cell_type": "markdown",
      "source": [
        "#### Test Set"
      ],
      "metadata": {
        "_uuid": "a3481050ff75eb36c89117cf7fd57479c047649d",
        "id": "ju_se3Sk6ZWV"
      }
    },
    {
      "cell_type": "code",
      "source": [
        "x_test = np.array(test_images)\n",
        "y_test = np.array(test_labels)\n",
        "x_test.shape, y_test.shape"
      ],
      "metadata": {
        "_uuid": "ebbf24c127217ef8799a02a146eb97de17f0e064",
        "collapsed": true,
        "jupyter": {
          "outputs_hidden": true
        },
        "trusted": true,
        "id": "StHT3jMF6ZWX",
        "outputId": "c6242dd8-e90c-4362-a0a2-7c88d9e0f2fd",
        "colab": {
          "base_uri": "https://localhost:8080/"
        }
      },
      "execution_count": 167,
      "outputs": [
        {
          "output_type": "execute_result",
          "data": {
            "text/plain": [
              "((100, 3, 32, 32), (100,))"
            ]
          },
          "metadata": {},
          "execution_count": 167
        }
      ]
    },
    {
      "cell_type": "markdown",
      "source": [
        "### **3. KNN**"
      ],
      "metadata": {
        "id": "dn6LYfAS710-"
      }
    },
    {
      "cell_type": "markdown",
      "source": [
        "First of all, let's implement euclidean distance function, so we will be able to calculate closeness between images.\n",
        "\n",
        "**A reminder**: the euclidean distance formula is:\n",
        "\n",
        "![image.png](data:image/png;base64,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)\n",
        "\n",
        "**Pay attention**: point representation might contains more than two numbers (means m>2)."
      ],
      "metadata": {
        "id": "QGgbwQg5BBk8"
      }
    },
    {
      "cell_type": "code",
      "source": [
        "def euclidean_distance(p1, p2):\n",
        "  dist = np.linalg.norm(p1 - p2)\n",
        "  return dist"
      ],
      "metadata": {
        "id": "6JEOP8Iy9Oed"
      },
      "execution_count": 120,
      "outputs": []
    },
    {
      "cell_type": "markdown",
      "source": [
        "Now, let's implement KNeighborsClassifier class.\n",
        "\n",
        "In 'fit' function you have to get the inputs, and prepare the classifier for prediction (think what exactly you have to prepare)\n",
        "\n",
        "In 'predict' fucntion you have to get a test set and return a numpy array contains the classes (that the model predicted) of each element from the test set.\n",
        "\n",
        "We added a few more function declarations that might help you. Fill free to implement them (or not) and to add some more functions.\n",
        "\n",
        "In adition, we've presented a few KNN implementations in class. You are allowed to implement your own algorithm.\n"
      ],
      "metadata": {
        "id": "p0nmKRhmCiZO"
      }
    },
    {
      "cell_type": "code",
      "source": [
        "class KNeighborsClassifier:\n",
        "  def __init__(self, distance_metric, n_neighbors=None):\n",
        "    self.k = n_neighbors\n",
        "    self.distance_metric = distance_metric\n",
        "\n",
        "  def fit(self, x, y):\n",
        "    self.x_train = x\n",
        "    self.y_train = y\n",
        "\n",
        "  def distance(self, x_test):\n",
        "    distances = []\n",
        "    for x in self.x_train:\n",
        "      distances.append(self.distance_metric(x, x_test))\n",
        "    return distances\n",
        "\n",
        "  def nearest_neighbor(self, x_test):\n",
        "    d = self.distance(x_test)\n",
        "    sorted_y = [y for _, y in sorted(zip(d, self.y_train))]\n",
        "    return sorted_y[:self.k]\n",
        "    \n",
        "  def predict(self, x_test):\n",
        "    neighbors = []\n",
        "    for x in x_test:\n",
        "      neighbors.append(self.nearest_neighbor(x))\n",
        "    print(neighbors)\n",
        "    neighbors = np.array(list(map(lambda a: max(set(a), key=a.count), neighbors)))\n",
        "    print(neighbors)\n",
        "    return neighbors\n"
      ],
      "metadata": {
        "id": "KboWqZLE7zuE"
      },
      "execution_count": 300,
      "outputs": []
    },
    {
      "cell_type": "code",
      "source": [
        "def error_rate(y_predict, y_true):\n",
        "  \"\"\"\n",
        "  y_predict: the model's output\n",
        "  y_true: the expected output\n",
        "  \"\"\"\n",
        "  return np.mean(y_predict != y_true)\n",
        "  "
      ],
      "metadata": {
        "id": "Y1XqlDE7BaS-"
      },
      "execution_count": 283,
      "outputs": []
    },
    {
      "cell_type": "markdown",
      "source": [
        "**Using KNN**"
      ],
      "metadata": {
        "_uuid": "ae2b399f1a07facca0efbe6932d07ce364503b19",
        "id": "70eV3Bbk6ZWY"
      }
    },
    {
      "cell_type": "markdown",
      "source": [
        "Use the KNeighborsClassifier class you've implemented with n_neighbors=1. Fit this KNN model to the training data."
      ],
      "metadata": {
        "_uuid": "f74b766c7b4c1c903d28801f0d289c3c656e9f40",
        "id": "bucbcM056ZWZ"
      }
    },
    {
      "cell_type": "code",
      "source": [
        "knn = KNeighborsClassifier(euclidean_distance, n_neighbors=1)\n",
        "knn.fit(x_train,y_train)"
      ],
      "metadata": {
        "_uuid": "172f52bf6eb063dc1036e9c9f53cf8b32be30264",
        "trusted": true,
        "id": "HlCwTN6f6ZWa"
      },
      "execution_count": 304,
      "outputs": []
    },
    {
      "cell_type": "markdown",
      "source": [
        "**Predictions and Evaluations**"
      ],
      "metadata": {
        "_uuid": "616bada005962d9b485fb28cff6ee51772ae623e",
        "id": "WAfvzL676ZWb"
      }
    },
    {
      "cell_type": "markdown",
      "source": [
        "Use the predict method to predict values using your KNN model and x_test. In addition, create a [confusion matrix](https://www.sciencedirect.com/topics/engineering/confusion-matrix) and a [classification report](https://scikit-learn.org/stable/modules/generated/sklearn.metrics.classification_report.html).\n",
        "\n",
        "Make sure you don't get any errors in this cell."
      ],
      "metadata": {
        "_uuid": "7b2ce93dc57775f9d4648d93b89ca601fd87b14b",
        "id": "uRAZcinr6ZWc"
      }
    },
    {
      "cell_type": "code",
      "source": [
        "pred = knn.predict(x_test)\n",
        "from sklearn.metrics import classification_report,confusion_matrix\n",
        "print(confusion_matrix(y_test,pred))\n",
        "print(classification_report(y_test,pred))"
      ],
      "metadata": {
        "_uuid": "f31fd79b413c45cab4629c9ee9feecd515a05974",
        "trusted": true,
        "id": "Nljusqxg6ZWd",
        "colab": {
          "base_uri": "https://localhost:8080/"
        },
        "outputId": "9c77aef5-d691-42fb-c37b-75b8eb9e2ba6"
      },
      "execution_count": 303,
      "outputs": [
        {
          "output_type": "stream",
          "name": "stdout",
          "text": [
            "[[2, 4, 3, 4, 6], [8, 0, 8, 0, 1], [9, 0, 0, 7, 9], [8, 5, 3, 7, 4], [4, 6, 7, 2, 4], [6, 4, 2, 3, 7], [3, 6, 5, 4, 6], [4, 2, 3, 2, 6], [2, 4, 4, 5, 4], [3, 0, 1, 4, 4], [4, 7, 3, 8, 4], [0, 0, 3, 4, 0], [4, 4, 6, 2, 7], [5, 6, 8, 7, 6], [3, 2, 4, 0, 4], [4, 6, 4, 3, 2], [2, 6, 4, 0, 3], [4, 4, 4, 2, 4], [0, 9, 8, 7, 9], [6, 6, 4, 2, 7], [4, 7, 4, 4, 4], [6, 6, 0, 2, 0], [4, 8, 1, 5, 3], [6, 4, 2, 6, 7], [4, 7, 4, 4, 2], [6, 4, 4, 6, 2], [4, 7, 6, 7, 7], [4, 4, 0, 3, 7], [4, 4, 4, 4, 3], [6, 4, 3, 6, 5], [4, 2, 3, 2, 6], [2, 4, 4, 4, 6], [2, 4, 4, 4, 7], [4, 2, 6, 4, 6], [0, 9, 3, 1, 8], [2, 6, 4, 6, 2], [4, 4, 4, 2, 7], [3, 7, 0, 3, 8], [3, 4, 4, 0, 4], [0, 4, 2, 4, 6], [7, 6, 5, 0, 3], [2, 5, 4, 6, 6], [7, 3, 4, 2, 6], [4, 1, 7, 2, 7], [8, 7, 0, 1, 1], [7, 3, 4, 0, 8], [5, 2, 4, 5, 6], [1, 4, 3, 8, 2], [4, 7, 4, 2, 6], [4, 6, 6, 6, 3], [0, 9, 0, 9, 9], [0, 6, 8, 2, 3], [5, 6, 6, 4, 6], [4, 5, 3, 6, 4], [0, 9, 7, 0, 8], [0, 4, 7, 8, 6], [0, 4, 2, 4, 6], [2, 5, 8, 6, 6], [4, 3, 4, 7, 4], [4, 4, 4, 4, 2], [4, 4, 4, 2, 4], [4, 6, 7, 2, 3], [6, 5, 2, 1, 8], [0, 3, 4, 9, 7], [4, 4, 2, 6, 6], [4, 2, 3, 6, 6], [6, 0, 4, 4, 2], [2, 0, 3, 1, 8], [5, 4, 2, 8, 3], [9, 0, 0, 9, 9], [4, 1, 5, 3, 4], [4, 2, 4, 6, 6], [3, 5, 1, 4, 8], [0, 1, 2, 3, 4], [0, 9, 9, 7, 9], [4, 4, 4, 2, 4], [4, 3, 5, 4, 7], [5, 5, 3, 4, 1], [3, 6, 5, 6, 1], [1, 0, 1, 2, 9], [0, 3, 4, 4, 1], [2, 5, 3, 6, 8], [4, 6, 2, 6, 4], [6, 0, 2, 1, 3], [2, 3, 6, 1, 8], [7, 4, 0, 4, 4], [2, 3, 5, 6, 9], [0, 8, 7, 5, 7], [0, 7, 7, 8, 1], [7, 6, 4, 0, 0], [4, 0, 4, 3, 7], [4, 6, 2, 6, 5], [8, 1, 5, 0, 3], [4, 6, 7, 0, 4], [4, 5, 3, 6, 6], [4, 2, 4, 4, 4], [4, 7, 2, 2, 4], [4, 4, 2, 4, 3], [6, 2, 6, 1, 4], [4, 8, 1, 9, 4]]\n",
            "[4 8 0 3 4 2 6 2 4 4 4 0 4 6 4 4 0 4 9 6 4 0 1 6 4 4 7 4 4 6 2 4 4 4 0 2 4\n",
            " 3 4 4 0 6 2 7 1 0 5 1 4 6 9 0 6 4 0 0 4 6 4 4 4 2 1 0 4 6 4 0 2 9 4 4 1 0\n",
            " 9 4 4 5 6 1 4 2 4 0 1 4 2 7 7 0 4 6 0 4 6 4 2 4 6 4]\n",
            "[3 8 8 0 6 6 1 6 3 1 0 9 5 7 9 8 5 7 8 6 7 0 4 9 5 2 4 0 9 6 6 5 4 5 9 2 4\n",
            " 1 9 5 4 6 5 6 0 9 3 9 7 6 9 8 0 3 8 8 7 7 4 6 7 3 6 3 6 2 1 2 3 7 2 6 8 8\n",
            " 0 2 9 3 3 8 8 1 1 7 2 5 2 7 8 9 0 3 8 6 4 6 6 0 0 7]\n",
            "[[1 1 0 1 4 0 2 0 0 1]\n",
            " [0 0 1 1 3 0 1 0 0 0]\n",
            " [1 1 2 0 3 0 1 0 0 0]\n",
            " [1 0 2 0 3 2 2 0 0 0]\n",
            " [1 1 0 0 3 0 1 1 0 0]\n",
            " [1 0 1 0 6 0 0 0 0 0]\n",
            " [0 1 4 0 6 0 4 1 0 0]\n",
            " [1 0 0 0 6 0 2 1 0 1]\n",
            " [6 2 0 0 2 0 0 1 1 1]\n",
            " [4 1 0 0 4 0 1 0 0 1]]\n",
            "              precision    recall  f1-score   support\n",
            "\n",
            "           0       0.06      0.10      0.08        10\n",
            "           1       0.00      0.00      0.00         6\n",
            "           2       0.20      0.25      0.22         8\n",
            "           3       0.00      0.00      0.00        10\n",
            "           4       0.07      0.43      0.13         7\n",
            "           5       0.00      0.00      0.00         8\n",
            "           6       0.29      0.25      0.27        16\n",
            "           7       0.25      0.09      0.13        11\n",
            "           8       1.00      0.08      0.14        13\n",
            "           9       0.25      0.09      0.13        11\n",
            "\n",
            "    accuracy                           0.13       100\n",
            "   macro avg       0.21      0.13      0.11       100\n",
            "weighted avg       0.26      0.13      0.12       100\n",
            "\n"
          ]
        }
      ]
    },
    {
      "cell_type": "code",
      "source": [],
      "metadata": {
        "id": "H6RXfw0SApWC"
      },
      "execution_count": null,
      "outputs": []
    },
    {
      "cell_type": "markdown",
      "source": [
        "**Choosing a K Value**"
      ],
      "metadata": {
        "_uuid": "2bb7d870a8beaead732e933b26ca2560a635b9c3",
        "id": "R0UxmSd26ZWe"
      }
    },
    {
      "cell_type": "markdown",
      "source": [
        "Implement a for loop in 'find_best_k' function (hint: use KNeighborsClassifier object) that trains various KNN models with different k values, then keep track of the error_rate for each of these models with a list.\n",
        "The function will return the best k, and the error rate of each k as a numpy array."
      ],
      "metadata": {
        "_uuid": "249e09040d35835d5573c8040bf0a6f058243bdd",
        "id": "ZxskqOWf6ZWe"
      }
    },
    {
      "cell_type": "code",
      "source": [
        "MIN_K = 1\n",
        "MAX_K = 15\n",
        "\n",
        "def find_best_k(min_k=1, max_k=15):\n",
        "  error_list = []\n",
        "  for k in range(min_k, max_k):\n",
        "    knn = KNeighborsClassifier(euclidean_distance, k)\n",
        "    knn.fit(x_train, y_train)\n",
        "    error_list.append(error_rate(knn.predict(x_test), y_test))\n",
        "  best_er = max(error_list)\n",
        "  best_er_index = error_list.index(best_er)\n",
        "  return (best_er_index, error_list)\n",
        "  \n",
        "\n",
        "  "
      ],
      "metadata": {
        "_uuid": "1888168e0d4e1b67c8453578c10608b4f4d1064a",
        "collapsed": true,
        "jupyter": {
          "outputs_hidden": true
        },
        "trusted": true,
        "id": "s1Zwd1PB6ZWf"
      },
      "execution_count": 265,
      "outputs": []
    },
    {
      "cell_type": "code",
      "source": [
        "best_k, error_rate = find_best_k(min_k=MIN_K, max_k=MAX_K)"
      ],
      "metadata": {
        "id": "hgiv4I1xEof5",
        "colab": {
          "base_uri": "https://localhost:8080/"
        },
        "outputId": "4f8ce9d5-843f-44ca-b6f2-45ca3bbc3d50"
      },
      "execution_count": 293,
      "outputs": [
        {
          "output_type": "stream",
          "name": "stdout",
          "text": [
            "[2 8 9 8 4 6 3 4 2 3 4 0 4 5 3 4 2 4 0 6 4 6 4 6 4 6 4 4 4 6 4 2 2 4 0 2 4\n",
            " 3 3 0 7 2 7 4 8 7 5 1 4 4 0 0 5 4 0 0 0 2 4 4 4 4 6 0 4 4 6 2 5 9 4 4 3 0\n",
            " 0 4 4 5 3 1 0 2 4 6 2 7 2 0 0 7 4 4 8 4 4 4 4 4 6 4]\n",
            "[2 8 0 8 4 4 3 2 2 0 4 0 4 5 2 4 2 4 0 6 4 6 8 4 4 4 4 4 4 4 2 2 2 2 0 2 4\n",
            " 3 3 0 6 2 3 1 8 3 2 1 4 4 0 0 5 4 0 0 0 2 3 4 4 4 5 0 4 2 0 0 4 0 1 2 3 0\n",
            " 0 4 3 5 3 0 0 2 4 0 2 4 2 0 0 6 0 4 8 4 4 2 4 4 2 8]\n",
            "[2 8 0 8 4 2 3 2 4 0 3 0 4 8 2 4 2 4 0 6 4 6 8 2 4 4 4 4 4 3 2 4 4 2 0 2 4\n",
            " 0 4 0 5 2 3 1 8 3 2 1 4 6 0 0 6 3 0 0 0 8 4 4 4 4 2 0 4 2 0 0 2 0 1 4 1 0\n",
            " 9 4 3 5 3 1 0 2 2 0 2 0 2 0 7 4 4 2 8 4 3 4 2 4 6 8]\n",
            "[4 8 0 8 2 2 3 2 4 0 8 0 4 8 0 4 0 4 0 6 4 6 8 6 4 4 7 4 4 6 2 4 4 4 0 6 4\n",
            " 3 4 4 0 2 2 1 8 0 5 8 4 6 0 0 6 3 0 0 4 8 4 4 4 2 1 0 4 2 4 0 8 0 1 4 1 0\n",
            " 9 4 4 5 6 1 4 2 6 0 1 4 2 0 7 0 4 6 8 0 3 4 2 4 6 8]\n",
            "[4 8 0 3 4 2 6 2 4 4 4 0 4 6 4 4 0 4 9 6 4 0 1 6 4 4 7 4 4 6 2 4 4 4 0 2 4\n",
            " 3 4 4 0 6 2 7 1 0 5 1 4 6 9 0 6 4 0 0 4 6 4 4 4 2 1 0 4 6 4 0 2 9 4 4 1 0\n",
            " 9 4 4 5 6 1 4 2 4 0 1 4 2 7 7 0 4 6 0 4 6 4 2 4 6 4]\n",
            "[2 8 0 0 4 6 5 2 4 4 4 0 4 6 4 2 0 4 0 2 4 0 1 6 4 4 7 0 4 6 2 4 4 4 9 2 4\n",
            " 3 4 4 0 4 3 7 8 4 5 1 4 6 9 2 6 4 0 0 4 6 4 4 4 6 1 0 4 6 4 0 2 9 4 4 4 0\n",
            " 9 4 4 5 6 1 4 6 4 3 0 4 2 0 7 0 4 6 1 0 6 4 2 4 6 4]\n",
            "[2 8 0 4 4 6 3 2 4 0 4 0 4 6 4 4 2 4 0 2 4 0 1 6 4 4 7 0 4 2 2 4 4 4 9 4 4\n",
            " 3 4 4 4 2 3 7 8 3 5 2 6 6 9 2 6 4 0 0 4 6 4 4 4 2 1 0 4 6 1 0 1 9 3 4 3 0\n",
            " 9 4 4 5 6 1 4 6 4 3 6 4 3 0 7 0 4 6 0 4 6 4 2 4 1 4]\n",
            "[4 8 0 4 2 6 6 2 4 0 4 0 6 6 4 4 2 4 0 2 4 0 1 6 4 2 7 0 4 6 2 4 4 4 1 4 4\n",
            " 0 4 4 4 2 3 7 1 3 5 2 6 6 9 2 6 4 0 0 4 6 4 4 4 2 1 9 4 6 1 0 4 9 3 2 3 0\n",
            " 9 4 4 3 3 1 1 6 4 3 6 4 3 0 7 0 4 2 0 4 6 4 2 4 0 4]\n",
            "[4 0 0 0 2 6 6 2 4 0 4 0 6 6 2 4 2 4 9 2 4 0 1 6 4 6 7 0 4 6 2 4 4 4 1 4 4\n",
            " 0 4 4 4 6 3 7 8 3 5 2 6 6 9 2 6 4 9 0 4 2 4 4 4 6 6 9 4 6 1 0 4 9 3 2 3 0\n",
            " 9 4 4 3 3 1 1 6 4 3 4 4 3 0 0 0 4 6 0 4 6 4 4 4 0 4]\n",
            "[4 0 0 0 6 6 6 2 4 4 4 0 6 6 4 4 2 4 9 2 4 0 1 6 4 2 7 0 4 6 2 4 4 4 9 4 4\n",
            " 0 4 4 4 2 3 7 8 0 6 2 4 6 8 2 6 6 9 0 4 6 4 4 4 6 6 9 4 6 1 0 4 9 4 6 0 0\n",
            " 9 4 4 3 3 1 1 6 4 3 3 4 3 0 0 0 4 2 0 4 6 4 4 4 0 2]\n",
            "[6 0 0 0 2 6 6 2 4 4 4 0 5 6 4 4 2 4 9 2 4 0 1 6 4 6 7 4 4 6 2 4 4 4 9 4 4\n",
            " 0 4 4 4 2 3 7 8 0 5 2 4 6 8 2 6 6 9 0 2 2 4 4 4 6 6 9 4 6 4 0 4 9 4 6 0 0\n",
            " 9 4 4 5 2 1 1 6 4 3 0 4 3 0 0 0 4 2 0 4 6 4 2 4 0 1]\n",
            "[6 0 0 0 2 6 5 2 4 4 4 0 5 6 4 4 4 4 9 2 4 0 1 6 4 6 6 4 4 6 2 4 4 4 9 6 4\n",
            " 0 4 4 4 6 3 6 0 0 5 2 4 6 8 8 6 6 9 0 6 2 0 4 4 6 6 9 4 6 4 0 6 9 4 6 0 0\n",
            " 9 4 4 5 6 1 8 6 4 3 0 4 6 0 0 0 4 2 0 4 6 4 2 4 0 1]\n",
            "[4 0 9 0 2 6 5 2 4 4 4 0 5 6 4 4 4 4 9 6 4 0 6 6 4 6 6 4 4 6 2 4 4 4 9 6 4\n",
            " 0 4 4 4 2 3 2 0 0 5 2 2 6 8 8 6 6 9 0 6 2 0 4 4 6 2 9 4 6 4 0 6 9 4 6 0 8\n",
            " 7 4 4 6 6 1 8 6 4 0 4 4 3 0 0 0 4 2 0 4 6 4 6 4 0 0]\n",
            "[4 0 4 0 2 6 6 2 4 4 4 9 5 6 4 4 5 4 9 6 4 0 6 6 4 6 6 4 4 6 2 4 4 4 9 6 4\n",
            " 0 4 4 4 2 3 6 0 0 4 2 6 6 1 2 6 6 9 0 6 1 0 4 4 6 2 9 4 6 4 0 6 9 4 6 0 4\n",
            " 9 4 4 6 6 1 4 6 4 0 4 4 3 0 1 0 4 2 0 4 6 4 6 4 0 4]\n"
          ]
        }
      ]
    },
    {
      "cell_type": "markdown",
      "source": [
        "Now create the following plot using the information from your for loop."
      ],
      "metadata": {
        "_uuid": "e0885f54bb197123a46822f9aad5bb5bc2b8e29d",
        "id": "XRnwmDcD6ZWg"
      }
    },
    {
      "cell_type": "code",
      "source": [
        "plt.figure(figsize=(10,6))\n",
        "plt.plot(range(MIN_K,MAX_K),error_rate,color='blue',linestyle='dashed', marker='o',\n",
        "         markerfacecolor='red', markersize=10)\n",
        "plt.title('Error rate vs K')\n",
        "plt.xlabel('K')\n",
        "plt.ylabel('Error rate')"
      ],
      "metadata": {
        "_uuid": "d4367d0cceb7e8e925d03bddcf7d8a0c744e24eb",
        "trusted": true,
        "id": "e3aBqCrz6ZWg",
        "colab": {
          "base_uri": "https://localhost:8080/",
          "height": 421
        },
        "outputId": "1680a1c4-0f31-4eec-87fb-cb8edb937c0a"
      },
      "execution_count": 279,
      "outputs": [
        {
          "output_type": "execute_result",
          "data": {
            "text/plain": [
              "Text(0, 0.5, 'Error rate')"
            ]
          },
          "metadata": {},
          "execution_count": 279
        },
        {
          "output_type": "display_data",
          "data": {
            "text/plain": [
              "<Figure size 720x432 with 1 Axes>"
            ],
            "image/png": "[encoded data removed]"
          },
          "metadata": {
            "needs_background": "light"
          }
        }
      ]
    },
    {
      "cell_type": "markdown",
      "source": [
        "**Retrain with new K Value**"
      ],
      "metadata": {
        "_uuid": "b8f0fab026198a3713fd349f90f822bbec54bc46",
        "id": "32CvrMLV6ZWh"
      }
    },
    {
      "cell_type": "markdown",
      "source": [
        "Retrain your model with the best K value (up to you to decide what you want) and re-do the classification report and the confusion matrix."
      ],
      "metadata": {
        "_uuid": "71595920cbc4e2b99c48e45685a2c9b7d2bd6eaf",
        "id": "rXPiIZcB6ZWi"
      }
    },
    {
      "cell_type": "code",
      "source": [
        "knn = KNeighborsClassifier(#### INSERT ARGUMENTS HERE ####)\n",
        "knn.fit(#### INSERT ARGUMENTS HERE ####)\n",
        "pred = knn.predict(#### INSERT ARGUMENTS HERE ####)"
      ],
      "metadata": {
        "_uuid": "ef73509be8d89ad176edb3c58e213d2f90ded61e",
        "collapsed": true,
        "jupyter": {
          "outputs_hidden": true
        },
        "trusted": true,
        "id": "D22b6tx36ZWi",
        "colab": {
          "base_uri": "https://localhost:8080/",
          "height": 131
        },
        "outputId": "e52c6ffe-6c4a-4261-91d0-f9419d3f2e76"
      },
      "execution_count": 223,
      "outputs": [
        {
          "output_type": "error",
          "ename": "SyntaxError",
          "evalue": "ignored",
          "traceback": [
            "\u001b[0;36m  File \u001b[0;32m\"<ipython-input-223-004f5543d71e>\"\u001b[0;36m, line \u001b[0;32m3\u001b[0m\n\u001b[0;31m    pred = knn.predict(#### INSERT ARGUMENTS HERE ####)\u001b[0m\n\u001b[0m                                                       ^\u001b[0m\n\u001b[0;31mSyntaxError\u001b[0m\u001b[0;31m:\u001b[0m unexpected EOF while parsing\n"
          ]
        }
      ]
    },
    {
      "cell_type": "code",
      "source": [
        "print(confusion_matrix(y_test,pred))\n",
        "print(classification_report(y_test,pred))"
      ],
      "metadata": {
        "_uuid": "15aa54fc0ea59691e5ec1d5f00c47f6f366f1e15",
        "trusted": true,
        "id": "ltUP04u96ZWj",
        "colab": {
          "base_uri": "https://localhost:8080/"
        },
        "outputId": "20236e62-642d-4c6f-b512-b81b4835539d"
      },
      "execution_count": 238,
      "outputs": [
        {
          "output_type": "stream",
          "name": "stdout",
          "text": [
            "[[ 1  0  0  0  4  1  2  0  2  0]\n",
            " [ 0  0  1  3  1  0  1  0  0  0]\n",
            " [ 0  0  4  0  3  0  1  0  0  0]\n",
            " [ 1  0  2  1  3  3  0  0  0  0]\n",
            " [ 0  0  1  0  5  0  0  1  0  0]\n",
            " [ 1  0  2  0  3  0  0  2  0  0]\n",
            " [ 0  0  1  0 11  0  4  0  0  0]\n",
            " [ 2  0  1  0  5  1  1  0  0  1]\n",
            " [ 7  1  0  1  1  0  0  0  2  1]\n",
            " [ 3  1  0  2  2  0  1  2  0  0]]\n",
            "              precision    recall  f1-score   support\n",
            "\n",
            "           0       0.07      0.10      0.08        10\n",
            "           1       0.00      0.00      0.00         6\n",
            "           2       0.33      0.50      0.40         8\n",
            "           3       0.14      0.10      0.12        10\n",
            "           4       0.13      0.71      0.22         7\n",
            "           5       0.00      0.00      0.00         8\n",
            "           6       0.40      0.25      0.31        16\n",
            "           7       0.00      0.00      0.00        11\n",
            "           8       0.50      0.15      0.24        13\n",
            "           9       0.00      0.00      0.00        11\n",
            "\n",
            "    accuracy                           0.17       100\n",
            "   macro avg       0.16      0.18      0.14       100\n",
            "weighted avg       0.19      0.17      0.15       100\n",
            "\n"
          ]
        }
      ]
    },
    {
      "cell_type": "markdown",
      "source": [
        "**:)**"
      ],
      "metadata": {
        "_uuid": "f55ee56ba4ff8850ca413226af4fb78b712ed0ab",
        "id": "XXzD3V_T6ZWj"
      }
    }
  ]
}